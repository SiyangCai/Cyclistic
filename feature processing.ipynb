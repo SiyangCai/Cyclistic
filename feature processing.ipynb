{
 "cells": [
  {
   "cell_type": "code",
   "execution_count": 1,
   "id": "236a4301",
   "metadata": {},
   "outputs": [],
   "source": [
    "import modin.pandas as mpd\n",
    "import ray\n",
    "import numpy as np\n",
    "\n",
    "from matplotlib import style"
   ]
  },
  {
   "cell_type": "code",
   "execution_count": 2,
   "id": "32a05c12",
   "metadata": {},
   "outputs": [
    {
     "name": "stderr",
     "output_type": "stream",
     "text": [
      "2022-06-03 20:22:57,300\tINFO services.py:1456 -- View the Ray dashboard at \u001b[1m\u001b[32mhttp://127.0.0.1:8265\u001b[39m\u001b[22m\n"
     ]
    },
    {
     "data": {
      "text/plain": [
       "RayContext(dashboard_url='127.0.0.1:8265', python_version='3.9.7', ray_version='1.12.1', ray_commit='4863e33856b54ccf8add5cbe75e41558850a1b75', address_info={'node_ip_address': '127.0.0.1', 'raylet_ip_address': '127.0.0.1', 'redis_address': None, 'object_store_address': 'tcp://127.0.0.1:62996', 'raylet_socket_name': 'tcp://127.0.0.1:62561', 'webui_url': '127.0.0.1:8265', 'session_dir': 'C:\\\\Users\\\\caisy\\\\AppData\\\\Local\\\\Temp\\\\ray\\\\session_2022-06-03_20-22-55_086033_77740', 'metrics_export_port': 61548, 'gcs_address': '127.0.0.1:61350', 'address': '127.0.0.1:61350', 'node_id': 'adabbcdb36a3e644b063fa96ae307ada92f595f2d069426be74ac566'})"
      ]
     },
     "execution_count": 2,
     "metadata": {},
     "output_type": "execute_result"
    }
   ],
   "source": [
    "ray.init()"
   ]
  },
  {
   "cell_type": "code",
   "execution_count": 33,
   "id": "1723e915",
   "metadata": {},
   "outputs": [
    {
     "data": {
      "text/plain": [
       "['Solarize_Light2',\n",
       " '_classic_test_patch',\n",
       " 'bmh',\n",
       " 'classic',\n",
       " 'dark_background',\n",
       " 'fast',\n",
       " 'fivethirtyeight',\n",
       " 'ggplot',\n",
       " 'grayscale',\n",
       " 'seaborn',\n",
       " 'seaborn-bright',\n",
       " 'seaborn-colorblind',\n",
       " 'seaborn-dark',\n",
       " 'seaborn-dark-palette',\n",
       " 'seaborn-darkgrid',\n",
       " 'seaborn-deep',\n",
       " 'seaborn-muted',\n",
       " 'seaborn-notebook',\n",
       " 'seaborn-paper',\n",
       " 'seaborn-pastel',\n",
       " 'seaborn-poster',\n",
       " 'seaborn-talk',\n",
       " 'seaborn-ticks',\n",
       " 'seaborn-white',\n",
       " 'seaborn-whitegrid',\n",
       " 'tableau-colorblind10']"
      ]
     },
     "execution_count": 33,
     "metadata": {},
     "output_type": "execute_result"
    }
   ],
   "source": [
    "style.available"
   ]
  },
  {
   "cell_type": "code",
   "execution_count": 3,
   "id": "45df46c2",
   "metadata": {},
   "outputs": [],
   "source": [
    "style.use(\"seaborn\")"
   ]
  },
  {
   "cell_type": "code",
   "execution_count": 4,
   "id": "52bf4a40",
   "metadata": {},
   "outputs": [],
   "source": [
    "df = mpd.read_csv(\"data-trimmed\")"
   ]
  },
  {
   "cell_type": "code",
   "execution_count": 5,
   "id": "9662d633",
   "metadata": {},
   "outputs": [],
   "source": [
    "df.drop(columns= df.columns[0], axis = 1, inplace = True)"
   ]
  },
  {
   "cell_type": "code",
   "execution_count": 6,
   "id": "b911dc33",
   "metadata": {},
   "outputs": [
    {
     "data": {
      "text/html": [
       "<div>\n",
       "<style scoped>\n",
       "    .dataframe tbody tr th:only-of-type {\n",
       "        vertical-align: middle;\n",
       "    }\n",
       "\n",
       "    .dataframe tbody tr th {\n",
       "        vertical-align: top;\n",
       "    }\n",
       "\n",
       "    .dataframe thead th {\n",
       "        text-align: right;\n",
       "    }\n",
       "</style>\n",
       "<table border=\"1\" class=\"dataframe\">\n",
       "  <thead>\n",
       "    <tr style=\"text-align: right;\">\n",
       "      <th></th>\n",
       "      <th>rideable_type</th>\n",
       "      <th>started_at</th>\n",
       "      <th>ended_at</th>\n",
       "      <th>start_station_name</th>\n",
       "      <th>start_station_id</th>\n",
       "      <th>end_station_name</th>\n",
       "      <th>end_station_id</th>\n",
       "      <th>start_lat</th>\n",
       "      <th>start_lng</th>\n",
       "      <th>end_lat</th>\n",
       "      <th>end_lng</th>\n",
       "      <th>member_casual</th>\n",
       "    </tr>\n",
       "  </thead>\n",
       "  <tbody>\n",
       "    <tr>\n",
       "      <th>0</th>\n",
       "      <td>electric_bike</td>\n",
       "      <td>2021-01-23 16:14:19</td>\n",
       "      <td>2021-01-23 16:24:44</td>\n",
       "      <td>California Ave &amp; Cortez St</td>\n",
       "      <td>17660</td>\n",
       "      <td>NaN</td>\n",
       "      <td>NaN</td>\n",
       "      <td>41.900341</td>\n",
       "      <td>-87.696743</td>\n",
       "      <td>41.890000</td>\n",
       "      <td>-87.720000</td>\n",
       "      <td>member</td>\n",
       "    </tr>\n",
       "    <tr>\n",
       "      <th>1</th>\n",
       "      <td>electric_bike</td>\n",
       "      <td>2021-01-27 18:43:08</td>\n",
       "      <td>2021-01-27 18:47:12</td>\n",
       "      <td>California Ave &amp; Cortez St</td>\n",
       "      <td>17660</td>\n",
       "      <td>NaN</td>\n",
       "      <td>NaN</td>\n",
       "      <td>41.900333</td>\n",
       "      <td>-87.696707</td>\n",
       "      <td>41.900000</td>\n",
       "      <td>-87.690000</td>\n",
       "      <td>member</td>\n",
       "    </tr>\n",
       "    <tr>\n",
       "      <th>2</th>\n",
       "      <td>electric_bike</td>\n",
       "      <td>2021-01-21 22:35:54</td>\n",
       "      <td>2021-01-21 22:37:14</td>\n",
       "      <td>California Ave &amp; Cortez St</td>\n",
       "      <td>17660</td>\n",
       "      <td>NaN</td>\n",
       "      <td>NaN</td>\n",
       "      <td>41.900313</td>\n",
       "      <td>-87.696643</td>\n",
       "      <td>41.900000</td>\n",
       "      <td>-87.700000</td>\n",
       "      <td>member</td>\n",
       "    </tr>\n",
       "    <tr>\n",
       "      <th>3</th>\n",
       "      <td>electric_bike</td>\n",
       "      <td>2021-01-07 13:31:13</td>\n",
       "      <td>2021-01-07 13:42:55</td>\n",
       "      <td>California Ave &amp; Cortez St</td>\n",
       "      <td>17660</td>\n",
       "      <td>NaN</td>\n",
       "      <td>NaN</td>\n",
       "      <td>41.900399</td>\n",
       "      <td>-87.696662</td>\n",
       "      <td>41.920000</td>\n",
       "      <td>-87.690000</td>\n",
       "      <td>member</td>\n",
       "    </tr>\n",
       "    <tr>\n",
       "      <th>4</th>\n",
       "      <td>electric_bike</td>\n",
       "      <td>2021-01-23 02:24:02</td>\n",
       "      <td>2021-01-23 02:24:45</td>\n",
       "      <td>California Ave &amp; Cortez St</td>\n",
       "      <td>17660</td>\n",
       "      <td>NaN</td>\n",
       "      <td>NaN</td>\n",
       "      <td>41.900326</td>\n",
       "      <td>-87.696697</td>\n",
       "      <td>41.900000</td>\n",
       "      <td>-87.700000</td>\n",
       "      <td>casual</td>\n",
       "    </tr>\n",
       "    <tr>\n",
       "      <th>...</th>\n",
       "      <td>...</td>\n",
       "      <td>...</td>\n",
       "      <td>...</td>\n",
       "      <td>...</td>\n",
       "      <td>...</td>\n",
       "      <td>...</td>\n",
       "      <td>...</td>\n",
       "      <td>...</td>\n",
       "      <td>...</td>\n",
       "      <td>...</td>\n",
       "      <td>...</td>\n",
       "      <td>...</td>\n",
       "    </tr>\n",
       "    <tr>\n",
       "      <th>5595058</th>\n",
       "      <td>electric_bike</td>\n",
       "      <td>2021-12-12 13:36:55</td>\n",
       "      <td>2021-12-12 13:56:08</td>\n",
       "      <td>Canal St &amp; Madison St</td>\n",
       "      <td>13341</td>\n",
       "      <td>NaN</td>\n",
       "      <td>NaN</td>\n",
       "      <td>41.882289</td>\n",
       "      <td>-87.639752</td>\n",
       "      <td>41.890000</td>\n",
       "      <td>-87.610000</td>\n",
       "      <td>casual</td>\n",
       "    </tr>\n",
       "    <tr>\n",
       "      <th>5595059</th>\n",
       "      <td>electric_bike</td>\n",
       "      <td>2021-12-06 19:37:50</td>\n",
       "      <td>2021-12-06 19:44:51</td>\n",
       "      <td>Canal St &amp; Madison St</td>\n",
       "      <td>13341</td>\n",
       "      <td>Kingsbury St &amp; Kinzie St</td>\n",
       "      <td>KA1503000043</td>\n",
       "      <td>41.882123</td>\n",
       "      <td>-87.640053</td>\n",
       "      <td>41.889106</td>\n",
       "      <td>-87.638862</td>\n",
       "      <td>member</td>\n",
       "    </tr>\n",
       "    <tr>\n",
       "      <th>5595060</th>\n",
       "      <td>electric_bike</td>\n",
       "      <td>2021-12-02 08:57:04</td>\n",
       "      <td>2021-12-02 09:05:21</td>\n",
       "      <td>Canal St &amp; Madison St</td>\n",
       "      <td>13341</td>\n",
       "      <td>Dearborn St &amp; Monroe St</td>\n",
       "      <td>TA1305000006</td>\n",
       "      <td>41.881956</td>\n",
       "      <td>-87.639955</td>\n",
       "      <td>41.880254</td>\n",
       "      <td>-87.629603</td>\n",
       "      <td>member</td>\n",
       "    </tr>\n",
       "    <tr>\n",
       "      <th>5595061</th>\n",
       "      <td>electric_bike</td>\n",
       "      <td>2021-12-13 09:00:26</td>\n",
       "      <td>2021-12-13 09:14:39</td>\n",
       "      <td>Lawndale Ave &amp; 16th St</td>\n",
       "      <td>362.0</td>\n",
       "      <td>NaN</td>\n",
       "      <td>NaN</td>\n",
       "      <td>41.860000</td>\n",
       "      <td>-87.720000</td>\n",
       "      <td>41.850000</td>\n",
       "      <td>-87.710000</td>\n",
       "      <td>member</td>\n",
       "    </tr>\n",
       "    <tr>\n",
       "      <th>5595062</th>\n",
       "      <td>classic_bike</td>\n",
       "      <td>2021-12-13 08:45:32</td>\n",
       "      <td>2021-12-13 08:49:09</td>\n",
       "      <td>Michigan Ave &amp; Jackson Blvd</td>\n",
       "      <td>TA1309000002</td>\n",
       "      <td>Dearborn St &amp; Monroe St</td>\n",
       "      <td>TA1305000006</td>\n",
       "      <td>41.877850</td>\n",
       "      <td>-87.624080</td>\n",
       "      <td>41.881320</td>\n",
       "      <td>-87.629521</td>\n",
       "      <td>member</td>\n",
       "    </tr>\n",
       "  </tbody>\n",
       "</table>\n",
       "<p>5595063 rows x 12 columns</p>\n",
       "</div>"
      ],
      "text/plain": [
       "         rideable_type           started_at             ended_at  \\\n",
       "0        electric_bike  2021-01-23 16:14:19  2021-01-23 16:24:44   \n",
       "1        electric_bike  2021-01-27 18:43:08  2021-01-27 18:47:12   \n",
       "2        electric_bike  2021-01-21 22:35:54  2021-01-21 22:37:14   \n",
       "3        electric_bike  2021-01-07 13:31:13  2021-01-07 13:42:55   \n",
       "4        electric_bike  2021-01-23 02:24:02  2021-01-23 02:24:45   \n",
       "...                ...                  ...                  ...   \n",
       "5595058  electric_bike  2021-12-12 13:36:55  2021-12-12 13:56:08   \n",
       "5595059  electric_bike  2021-12-06 19:37:50  2021-12-06 19:44:51   \n",
       "5595060  electric_bike  2021-12-02 08:57:04  2021-12-02 09:05:21   \n",
       "5595061  electric_bike  2021-12-13 09:00:26  2021-12-13 09:14:39   \n",
       "5595062   classic_bike  2021-12-13 08:45:32  2021-12-13 08:49:09   \n",
       "\n",
       "                  start_station_name start_station_id  \\\n",
       "0         California Ave & Cortez St            17660   \n",
       "1         California Ave & Cortez St            17660   \n",
       "2         California Ave & Cortez St            17660   \n",
       "3         California Ave & Cortez St            17660   \n",
       "4         California Ave & Cortez St            17660   \n",
       "...                              ...              ...   \n",
       "5595058        Canal St & Madison St            13341   \n",
       "5595059        Canal St & Madison St            13341   \n",
       "5595060        Canal St & Madison St            13341   \n",
       "5595061       Lawndale Ave & 16th St            362.0   \n",
       "5595062  Michigan Ave & Jackson Blvd     TA1309000002   \n",
       "\n",
       "                 end_station_name end_station_id  start_lat  start_lng  \\\n",
       "0                             NaN            NaN  41.900341 -87.696743   \n",
       "1                             NaN            NaN  41.900333 -87.696707   \n",
       "2                             NaN            NaN  41.900313 -87.696643   \n",
       "3                             NaN            NaN  41.900399 -87.696662   \n",
       "4                             NaN            NaN  41.900326 -87.696697   \n",
       "...                           ...            ...        ...        ...   \n",
       "5595058                       NaN            NaN  41.882289 -87.639752   \n",
       "5595059  Kingsbury St & Kinzie St   KA1503000043  41.882123 -87.640053   \n",
       "5595060   Dearborn St & Monroe St   TA1305000006  41.881956 -87.639955   \n",
       "5595061                       NaN            NaN  41.860000 -87.720000   \n",
       "5595062   Dearborn St & Monroe St   TA1305000006  41.877850 -87.624080   \n",
       "\n",
       "           end_lat    end_lng member_casual  \n",
       "0        41.890000 -87.720000        member  \n",
       "1        41.900000 -87.690000        member  \n",
       "2        41.900000 -87.700000        member  \n",
       "3        41.920000 -87.690000        member  \n",
       "4        41.900000 -87.700000        casual  \n",
       "...            ...        ...           ...  \n",
       "5595058  41.890000 -87.610000        casual  \n",
       "5595059  41.889106 -87.638862        member  \n",
       "5595060  41.880254 -87.629603        member  \n",
       "5595061  41.850000 -87.710000        member  \n",
       "5595062  41.881320 -87.629521        member  \n",
       "\n",
       "[5595063 rows x 12 columns]"
      ]
     },
     "execution_count": 6,
     "metadata": {},
     "output_type": "execute_result"
    }
   ],
   "source": [
    "df"
   ]
  },
  {
   "cell_type": "code",
   "execution_count": 52,
   "id": "15bfd2f6",
   "metadata": {},
   "outputs": [
    {
     "data": {
      "text/plain": [
       "Index(['Unnamed: 0', 'rideable_type', 'started_at', 'ended_at',\n",
       "       'start_station_name', 'start_station_id', 'end_station_name',\n",
       "       'end_station_id', 'start_lat', 'start_lng', 'end_lat', 'end_lng',\n",
       "       'member_casual'],\n",
       "      dtype='object')"
      ]
     },
     "execution_count": 52,
     "metadata": {},
     "output_type": "execute_result"
    }
   ],
   "source": [
    "df.columns"
   ]
  },
  {
   "cell_type": "code",
   "execution_count": 7,
   "id": "34a2dfcb",
   "metadata": {},
   "outputs": [],
   "source": [
    "df.started_at = mpd.to_datetime(df.started_at)\n",
    "df.ended_at = mpd.to_datetime(df.ended_at)"
   ]
  },
  {
   "cell_type": "code",
   "execution_count": 51,
   "id": "f6d88cd8",
   "metadata": {},
   "outputs": [
    {
     "name": "stderr",
     "output_type": "stream",
     "text": [
      "UserWarning: Distributing <class 'int'> object. This may take some time.\n"
     ]
    },
    {
     "name": "stdout",
     "output_type": "stream",
     "text": [
      "<class 'modin.pandas.dataframe.DataFrame'>\n",
      "RangeIndex: 5595063 entries, 0 to 5595062\n",
      "Data columns (total 13 columns):\n",
      " #   Column              Non-Null Count    Dtype         \n",
      "---  ------------------  ----------------  -----         \n",
      " 0   Unnamed: 0          5595063 non-null  int64\n",
      " 1   rideable_type       5595063 non-null  object\n",
      " 2   started_at          5595063 non-null  datetime64[ns]\n",
      " 3   ended_at            5595063 non-null  datetime64[ns]\n",
      " 4   start_station_name  4904257 non-null  object\n",
      " 5   start_station_id    4904257 non-null  object\n",
      " 6   end_station_name    4855893 non-null  object\n",
      " 7   end_station_id      4855893 non-null  object\n",
      " 8   start_lat           5595063 non-null  float64\n",
      " 9   start_lng           5595063 non-null  float64\n",
      " 10  end_lat             5590292 non-null  float64\n",
      " 11  end_lng             5590292 non-null  float64\n",
      " 12  member_casual       5595063 non-null  object\n",
      "dtypes: object(6), float64(4), datetime64[ns](2), int64(1)\n",
      "memory usage: 554.9 MB\n"
     ]
    }
   ],
   "source": [
    "df.info()"
   ]
  },
  {
   "cell_type": "code",
   "execution_count": 8,
   "id": "73584dfe",
   "metadata": {},
   "outputs": [],
   "source": [
    "df[\"length\"] = df.ended_at - df.started_at"
   ]
  },
  {
   "cell_type": "code",
   "execution_count": 57,
   "id": "2c4cada3",
   "metadata": {},
   "outputs": [
    {
     "name": "stderr",
     "output_type": "stream",
     "text": [
      "UserWarning: sort_values defaulting to pandas implementation.\n"
     ]
    },
    {
     "data": {
      "text/plain": [
       "1839498   38 days 20:24:09\n",
       "1789291   38 days 16:11:41\n",
       "758503    37 days 10:41:36\n",
       "1325528   36 days 14:21:23\n",
       "2613756   34 days 02:27:09\n",
       "                ...       \n",
       "3017303    1 days 00:01:44\n",
       "529202     1 days 00:01:39\n",
       "3280311    1 days 00:01:36\n",
       "2255379    1 days 00:00:47\n",
       "116396     1 days 00:00:02\n",
       "Name: length, Length: 4016, dtype: timedelta64[ns]"
      ]
     },
     "execution_count": 57,
     "metadata": {},
     "output_type": "execute_result"
    }
   ],
   "source": [
    "df.loc[df.length > \"1d\", \"length\"].sort_values(ascending = False)"
   ]
  },
  {
   "cell_type": "code",
   "execution_count": 58,
   "id": "6d2a101d",
   "metadata": {},
   "outputs": [
    {
     "data": {
      "text/plain": [
       "0           Saturday\n",
       "1          Wednesday\n",
       "2           Thursday\n",
       "3           Thursday\n",
       "4           Saturday\n",
       "             ...    \n",
       "5595058       Sunday\n",
       "5595059       Monday\n",
       "5595060     Thursday\n",
       "5595061       Monday\n",
       "5595062       Monday\n",
       "Name: started_at, Length: 5595063, dtype: object"
      ]
     },
     "execution_count": 58,
     "metadata": {},
     "output_type": "execute_result"
    }
   ],
   "source": [
    " df.started_at.dt.day_name()"
   ]
  },
  {
   "cell_type": "code",
   "execution_count": 9,
   "id": "de4c528b",
   "metadata": {},
   "outputs": [],
   "source": [
    "df[\"weekday\"] = df.started_at.dt.weekday"
   ]
  },
  {
   "cell_type": "code",
   "execution_count": 10,
   "id": "e3334b46",
   "metadata": {},
   "outputs": [],
   "source": [
    "df[\"weekend\"] = df.weekday.apply(lambda x: 1 if x > 4 else 0)"
   ]
  },
  {
   "cell_type": "code",
   "execution_count": 11,
   "id": "3dc715bf",
   "metadata": {},
   "outputs": [
    {
     "data": {
      "text/plain": [
       "Index(['rideable_type', 'started_at', 'ended_at', 'start_station_name',\n",
       "       'start_station_id', 'end_station_name', 'end_station_id', 'start_lat',\n",
       "       'start_lng', 'end_lat', 'end_lng', 'member_casual', 'length', 'weekday',\n",
       "       'weekend'],\n",
       "      dtype='object')"
      ]
     },
     "execution_count": 11,
     "metadata": {},
     "output_type": "execute_result"
    }
   ],
   "source": [
    "df.columns"
   ]
  },
  {
   "cell_type": "code",
   "execution_count": 61,
   "id": "8c8ae6ea",
   "metadata": {},
   "outputs": [
    {
     "name": "stderr",
     "output_type": "stream",
     "text": [
      "UserWarning: sort_values defaulting to pandas implementation.\n"
     ]
    },
    {
     "data": {
      "text/plain": [
       "member    3066058\n",
       "casual    2529005\n",
       "Name: member_casual, dtype: int64"
      ]
     },
     "execution_count": 61,
     "metadata": {},
     "output_type": "execute_result"
    }
   ],
   "source": [
    "df.member_casual.value_counts()"
   ]
  },
  {
   "cell_type": "code",
   "execution_count": 62,
   "id": "f6397b78",
   "metadata": {
    "scrolled": true
   },
   "outputs": [
    {
     "name": "stderr",
     "output_type": "stream",
     "text": [
      "UserWarning: sort_values defaulting to pandas implementation.\n"
     ]
    },
    {
     "data": {
      "text/plain": [
       "<AxesSubplot:>"
      ]
     },
     "execution_count": 62,
     "metadata": {},
     "output_type": "execute_result"
    },
    {
     "data": {
      "image/png": "[encoded data removed]",
      "text/plain": [
       "<Figure size 432x288 with 1 Axes>"
      ]
     },
     "metadata": {
      "needs_background": "light"
     },
     "output_type": "display_data"
    }
   ],
   "source": [
    "df.rideable_type.value_counts().plot(kind = \"bar\")"
   ]
  },
  {
   "cell_type": "code",
   "execution_count": 63,
   "id": "658503ab",
   "metadata": {
    "scrolled": true
   },
   "outputs": [
    {
     "data": {
      "text/html": [
       "<div>\n",
       "<style scoped>\n",
       "    .dataframe tbody tr th:only-of-type {\n",
       "        vertical-align: middle;\n",
       "    }\n",
       "\n",
       "    .dataframe tbody tr th {\n",
       "        vertical-align: top;\n",
       "    }\n",
       "\n",
       "    .dataframe thead th {\n",
       "        text-align: right;\n",
       "    }\n",
       "</style>\n",
       "<table border=\"1\" class=\"dataframe\">\n",
       "  <thead>\n",
       "    <tr style=\"text-align: right;\">\n",
       "      <th></th>\n",
       "      <th>length</th>\n",
       "    </tr>\n",
       "    <tr>\n",
       "      <th>member_casual</th>\n",
       "      <th></th>\n",
       "    </tr>\n",
       "  </thead>\n",
       "  <tbody>\n",
       "    <tr>\n",
       "      <th>casual</th>\n",
       "      <td>3527</td>\n",
       "    </tr>\n",
       "    <tr>\n",
       "      <th>member</th>\n",
       "      <td>489</td>\n",
       "    </tr>\n",
       "  </tbody>\n",
       "</table>\n",
       "</div>"
      ],
      "text/plain": [
       "               length\n",
       "member_casual        \n",
       "casual           3527\n",
       "member            489"
      ]
     },
     "execution_count": 63,
     "metadata": {},
     "output_type": "execute_result"
    }
   ],
   "source": [
    "df.loc[df.length > \"1d\", [\"length\", \"member_casual\"]].groupby(\"member_casual\").count()"
   ]
  },
  {
   "cell_type": "code",
   "execution_count": 64,
   "id": "72e4af47",
   "metadata": {},
   "outputs": [
    {
     "name": "stderr",
     "output_type": "stream",
     "text": [
      "UserWarning: `pivot_table` implementation has mismatches with pandas:\n",
      "Order of columns could be different from pandas.\n"
     ]
    },
    {
     "data": {
      "text/html": [
       "<div>\n",
       "<style scoped>\n",
       "    .dataframe tbody tr th:only-of-type {\n",
       "        vertical-align: middle;\n",
       "    }\n",
       "\n",
       "    .dataframe tbody tr th {\n",
       "        vertical-align: top;\n",
       "    }\n",
       "\n",
       "    .dataframe thead th {\n",
       "        text-align: right;\n",
       "    }\n",
       "</style>\n",
       "<table border=\"1\" class=\"dataframe\">\n",
       "  <thead>\n",
       "    <tr style=\"text-align: right;\">\n",
       "      <th>rideable_type</th>\n",
       "      <th>classic_bike</th>\n",
       "      <th>docked_bike</th>\n",
       "      <th>electric_bike</th>\n",
       "    </tr>\n",
       "    <tr>\n",
       "      <th>member_casual</th>\n",
       "      <th></th>\n",
       "      <th></th>\n",
       "      <th></th>\n",
       "    </tr>\n",
       "  </thead>\n",
       "  <tbody>\n",
       "    <tr>\n",
       "      <th>casual</th>\n",
       "      <td>1266657</td>\n",
       "      <td>312342</td>\n",
       "      <td>950006</td>\n",
       "    </tr>\n",
       "    <tr>\n",
       "      <th>member</th>\n",
       "      <td>1984371</td>\n",
       "      <td>1</td>\n",
       "      <td>1081686</td>\n",
       "    </tr>\n",
       "  </tbody>\n",
       "</table>\n",
       "</div>"
      ],
      "text/plain": [
       "rideable_type  classic_bike  docked_bike  electric_bike\n",
       "member_casual                                          \n",
       "casual              1266657       312342         950006\n",
       "member              1984371            1        1081686"
      ]
     },
     "execution_count": 64,
     "metadata": {},
     "output_type": "execute_result"
    }
   ],
   "source": [
    "df.pivot_table(index = \"member_casual\", columns = \"rideable_type\", values = \"weekday\", aggfunc= \"count\")"
   ]
  },
  {
   "cell_type": "code",
   "execution_count": 65,
   "id": "fa61db30",
   "metadata": {},
   "outputs": [
    {
     "name": "stderr",
     "output_type": "stream",
     "text": [
      "UserWarning: sort_values defaulting to pandas implementation.\n"
     ]
    },
    {
     "data": {
      "text/plain": [
       "docked_bike    773\n",
       "Name: rideable_type, dtype: int64"
      ]
     },
     "execution_count": 65,
     "metadata": {},
     "output_type": "execute_result"
    }
   ],
   "source": [
    "df.loc[(df.length > \"2d\") & (df.member_casual == \"casual\"), \"rideable_type\"].value_counts() "
   ]
  },
  {
   "cell_type": "code",
   "execution_count": 18,
   "id": "546bad43",
   "metadata": {},
   "outputs": [],
   "source": [
    "df[\"usage_day_period\"] = df.started_at.apply(lambda x: \"morning\" if x.hour >=5 and x.hour < 12\n",
    "                   else(\"afternoon\" if x.hour >= 12 and x.hour < 18 \n",
    "                   else(\"night\" if x.hour >= 18 and x.hour < 23 \n",
    "                   else \"midnight\")))"
   ]
  },
  {
   "cell_type": "code",
   "execution_count": 26,
   "id": "b5e8c6e9",
   "metadata": {},
   "outputs": [],
   "source": [
    "df[\"usage_working_time\"] = 0"
   ]
  },
  {
   "cell_type": "code",
   "execution_count": 27,
   "id": "c13d4cd3",
   "metadata": {},
   "outputs": [],
   "source": [
    "df.loc[(df.weekend ==0) & (df.started_at.dt.hour >=9) & (df.started_at.dt.hour < 18), \"usage_working_time\"] = 1"
   ]
  },
  {
   "cell_type": "code",
   "execution_count": 28,
   "id": "10027f62",
   "metadata": {},
   "outputs": [
    {
     "data": {
      "text/html": [
       "<div>\n",
       "<style scoped>\n",
       "    .dataframe tbody tr th:only-of-type {\n",
       "        vertical-align: middle;\n",
       "    }\n",
       "\n",
       "    .dataframe tbody tr th {\n",
       "        vertical-align: top;\n",
       "    }\n",
       "\n",
       "    .dataframe thead th {\n",
       "        text-align: right;\n",
       "    }\n",
       "</style>\n",
       "<table border=\"1\" class=\"dataframe\">\n",
       "  <thead>\n",
       "    <tr style=\"text-align: right;\">\n",
       "      <th></th>\n",
       "      <th>rideable_type</th>\n",
       "      <th>started_at</th>\n",
       "      <th>ended_at</th>\n",
       "      <th>start_station_name</th>\n",
       "      <th>start_station_id</th>\n",
       "      <th>end_station_name</th>\n",
       "      <th>end_station_id</th>\n",
       "      <th>start_lat</th>\n",
       "      <th>start_lng</th>\n",
       "      <th>end_lat</th>\n",
       "      <th>end_lng</th>\n",
       "      <th>member_casual</th>\n",
       "      <th>length</th>\n",
       "      <th>weekday</th>\n",
       "      <th>weekend</th>\n",
       "      <th>usage_day_period</th>\n",
       "      <th>working_time</th>\n",
       "      <th>usage_working_time</th>\n",
       "    </tr>\n",
       "  </thead>\n",
       "  <tbody>\n",
       "    <tr>\n",
       "      <th>0</th>\n",
       "      <td>electric_bike</td>\n",
       "      <td>2021-01-23 16:14:19</td>\n",
       "      <td>2021-01-23 16:24:44</td>\n",
       "      <td>California Ave &amp; Cortez St</td>\n",
       "      <td>17660</td>\n",
       "      <td>NaN</td>\n",
       "      <td>NaN</td>\n",
       "      <td>41.900341</td>\n",
       "      <td>-87.696743</td>\n",
       "      <td>41.890000</td>\n",
       "      <td>-87.720000</td>\n",
       "      <td>member</td>\n",
       "      <td>0 days 00:10:25</td>\n",
       "      <td>5</td>\n",
       "      <td>1</td>\n",
       "      <td>afternoon</td>\n",
       "      <td>0</td>\n",
       "      <td>0</td>\n",
       "    </tr>\n",
       "    <tr>\n",
       "      <th>1</th>\n",
       "      <td>electric_bike</td>\n",
       "      <td>2021-01-27 18:43:08</td>\n",
       "      <td>2021-01-27 18:47:12</td>\n",
       "      <td>California Ave &amp; Cortez St</td>\n",
       "      <td>17660</td>\n",
       "      <td>NaN</td>\n",
       "      <td>NaN</td>\n",
       "      <td>41.900333</td>\n",
       "      <td>-87.696707</td>\n",
       "      <td>41.900000</td>\n",
       "      <td>-87.690000</td>\n",
       "      <td>member</td>\n",
       "      <td>0 days 00:04:04</td>\n",
       "      <td>2</td>\n",
       "      <td>0</td>\n",
       "      <td>night</td>\n",
       "      <td>0</td>\n",
       "      <td>0</td>\n",
       "    </tr>\n",
       "    <tr>\n",
       "      <th>2</th>\n",
       "      <td>electric_bike</td>\n",
       "      <td>2021-01-21 22:35:54</td>\n",
       "      <td>2021-01-21 22:37:14</td>\n",
       "      <td>California Ave &amp; Cortez St</td>\n",
       "      <td>17660</td>\n",
       "      <td>NaN</td>\n",
       "      <td>NaN</td>\n",
       "      <td>41.900313</td>\n",
       "      <td>-87.696643</td>\n",
       "      <td>41.900000</td>\n",
       "      <td>-87.700000</td>\n",
       "      <td>member</td>\n",
       "      <td>0 days 00:01:20</td>\n",
       "      <td>3</td>\n",
       "      <td>0</td>\n",
       "      <td>night</td>\n",
       "      <td>0</td>\n",
       "      <td>0</td>\n",
       "    </tr>\n",
       "    <tr>\n",
       "      <th>3</th>\n",
       "      <td>electric_bike</td>\n",
       "      <td>2021-01-07 13:31:13</td>\n",
       "      <td>2021-01-07 13:42:55</td>\n",
       "      <td>California Ave &amp; Cortez St</td>\n",
       "      <td>17660</td>\n",
       "      <td>NaN</td>\n",
       "      <td>NaN</td>\n",
       "      <td>41.900399</td>\n",
       "      <td>-87.696662</td>\n",
       "      <td>41.920000</td>\n",
       "      <td>-87.690000</td>\n",
       "      <td>member</td>\n",
       "      <td>0 days 00:11:42</td>\n",
       "      <td>3</td>\n",
       "      <td>0</td>\n",
       "      <td>afternoon</td>\n",
       "      <td>1</td>\n",
       "      <td>1</td>\n",
       "    </tr>\n",
       "    <tr>\n",
       "      <th>4</th>\n",
       "      <td>electric_bike</td>\n",
       "      <td>2021-01-23 02:24:02</td>\n",
       "      <td>2021-01-23 02:24:45</td>\n",
       "      <td>California Ave &amp; Cortez St</td>\n",
       "      <td>17660</td>\n",
       "      <td>NaN</td>\n",
       "      <td>NaN</td>\n",
       "      <td>41.900326</td>\n",
       "      <td>-87.696697</td>\n",
       "      <td>41.900000</td>\n",
       "      <td>-87.700000</td>\n",
       "      <td>casual</td>\n",
       "      <td>0 days 00:00:43</td>\n",
       "      <td>5</td>\n",
       "      <td>1</td>\n",
       "      <td>midnight</td>\n",
       "      <td>0</td>\n",
       "      <td>0</td>\n",
       "    </tr>\n",
       "    <tr>\n",
       "      <th>...</th>\n",
       "      <td>...</td>\n",
       "      <td>...</td>\n",
       "      <td>...</td>\n",
       "      <td>...</td>\n",
       "      <td>...</td>\n",
       "      <td>...</td>\n",
       "      <td>...</td>\n",
       "      <td>...</td>\n",
       "      <td>...</td>\n",
       "      <td>...</td>\n",
       "      <td>...</td>\n",
       "      <td>...</td>\n",
       "      <td>...</td>\n",
       "      <td>...</td>\n",
       "      <td>...</td>\n",
       "      <td>...</td>\n",
       "      <td>...</td>\n",
       "      <td>...</td>\n",
       "    </tr>\n",
       "    <tr>\n",
       "      <th>5595058</th>\n",
       "      <td>electric_bike</td>\n",
       "      <td>2021-12-12 13:36:55</td>\n",
       "      <td>2021-12-12 13:56:08</td>\n",
       "      <td>Canal St &amp; Madison St</td>\n",
       "      <td>13341</td>\n",
       "      <td>NaN</td>\n",
       "      <td>NaN</td>\n",
       "      <td>41.882289</td>\n",
       "      <td>-87.639752</td>\n",
       "      <td>41.890000</td>\n",
       "      <td>-87.610000</td>\n",
       "      <td>casual</td>\n",
       "      <td>0 days 00:19:13</td>\n",
       "      <td>6</td>\n",
       "      <td>1</td>\n",
       "      <td>afternoon</td>\n",
       "      <td>0</td>\n",
       "      <td>0</td>\n",
       "    </tr>\n",
       "    <tr>\n",
       "      <th>5595059</th>\n",
       "      <td>electric_bike</td>\n",
       "      <td>2021-12-06 19:37:50</td>\n",
       "      <td>2021-12-06 19:44:51</td>\n",
       "      <td>Canal St &amp; Madison St</td>\n",
       "      <td>13341</td>\n",
       "      <td>Kingsbury St &amp; Kinzie St</td>\n",
       "      <td>KA1503000043</td>\n",
       "      <td>41.882123</td>\n",
       "      <td>-87.640053</td>\n",
       "      <td>41.889106</td>\n",
       "      <td>-87.638862</td>\n",
       "      <td>member</td>\n",
       "      <td>0 days 00:07:01</td>\n",
       "      <td>0</td>\n",
       "      <td>0</td>\n",
       "      <td>night</td>\n",
       "      <td>0</td>\n",
       "      <td>0</td>\n",
       "    </tr>\n",
       "    <tr>\n",
       "      <th>5595060</th>\n",
       "      <td>electric_bike</td>\n",
       "      <td>2021-12-02 08:57:04</td>\n",
       "      <td>2021-12-02 09:05:21</td>\n",
       "      <td>Canal St &amp; Madison St</td>\n",
       "      <td>13341</td>\n",
       "      <td>Dearborn St &amp; Monroe St</td>\n",
       "      <td>TA1305000006</td>\n",
       "      <td>41.881956</td>\n",
       "      <td>-87.639955</td>\n",
       "      <td>41.880254</td>\n",
       "      <td>-87.629603</td>\n",
       "      <td>member</td>\n",
       "      <td>0 days 00:08:17</td>\n",
       "      <td>3</td>\n",
       "      <td>0</td>\n",
       "      <td>morning</td>\n",
       "      <td>0</td>\n",
       "      <td>0</td>\n",
       "    </tr>\n",
       "    <tr>\n",
       "      <th>5595061</th>\n",
       "      <td>electric_bike</td>\n",
       "      <td>2021-12-13 09:00:26</td>\n",
       "      <td>2021-12-13 09:14:39</td>\n",
       "      <td>Lawndale Ave &amp; 16th St</td>\n",
       "      <td>362.0</td>\n",
       "      <td>NaN</td>\n",
       "      <td>NaN</td>\n",
       "      <td>41.860000</td>\n",
       "      <td>-87.720000</td>\n",
       "      <td>41.850000</td>\n",
       "      <td>-87.710000</td>\n",
       "      <td>member</td>\n",
       "      <td>0 days 00:14:13</td>\n",
       "      <td>0</td>\n",
       "      <td>0</td>\n",
       "      <td>morning</td>\n",
       "      <td>1</td>\n",
       "      <td>1</td>\n",
       "    </tr>\n",
       "    <tr>\n",
       "      <th>5595062</th>\n",
       "      <td>classic_bike</td>\n",
       "      <td>2021-12-13 08:45:32</td>\n",
       "      <td>2021-12-13 08:49:09</td>\n",
       "      <td>Michigan Ave &amp; Jackson Blvd</td>\n",
       "      <td>TA1309000002</td>\n",
       "      <td>Dearborn St &amp; Monroe St</td>\n",
       "      <td>TA1305000006</td>\n",
       "      <td>41.877850</td>\n",
       "      <td>-87.624080</td>\n",
       "      <td>41.881320</td>\n",
       "      <td>-87.629521</td>\n",
       "      <td>member</td>\n",
       "      <td>0 days 00:03:37</td>\n",
       "      <td>0</td>\n",
       "      <td>0</td>\n",
       "      <td>morning</td>\n",
       "      <td>0</td>\n",
       "      <td>0</td>\n",
       "    </tr>\n",
       "  </tbody>\n",
       "</table>\n",
       "<p>5595063 rows x 18 columns</p>\n",
       "</div>"
      ],
      "text/plain": [
       "         rideable_type          started_at            ended_at  \\\n",
       "0        electric_bike 2021-01-23 16:14:19 2021-01-23 16:24:44   \n",
       "1        electric_bike 2021-01-27 18:43:08 2021-01-27 18:47:12   \n",
       "2        electric_bike 2021-01-21 22:35:54 2021-01-21 22:37:14   \n",
       "3        electric_bike 2021-01-07 13:31:13 2021-01-07 13:42:55   \n",
       "4        electric_bike 2021-01-23 02:24:02 2021-01-23 02:24:45   \n",
       "...                ...                 ...                 ...   \n",
       "5595058  electric_bike 2021-12-12 13:36:55 2021-12-12 13:56:08   \n",
       "5595059  electric_bike 2021-12-06 19:37:50 2021-12-06 19:44:51   \n",
       "5595060  electric_bike 2021-12-02 08:57:04 2021-12-02 09:05:21   \n",
       "5595061  electric_bike 2021-12-13 09:00:26 2021-12-13 09:14:39   \n",
       "5595062   classic_bike 2021-12-13 08:45:32 2021-12-13 08:49:09   \n",
       "\n",
       "                  start_station_name start_station_id  \\\n",
       "0         California Ave & Cortez St            17660   \n",
       "1         California Ave & Cortez St            17660   \n",
       "2         California Ave & Cortez St            17660   \n",
       "3         California Ave & Cortez St            17660   \n",
       "4         California Ave & Cortez St            17660   \n",
       "...                              ...              ...   \n",
       "5595058        Canal St & Madison St            13341   \n",
       "5595059        Canal St & Madison St            13341   \n",
       "5595060        Canal St & Madison St            13341   \n",
       "5595061       Lawndale Ave & 16th St            362.0   \n",
       "5595062  Michigan Ave & Jackson Blvd     TA1309000002   \n",
       "\n",
       "                 end_station_name end_station_id  start_lat  start_lng  \\\n",
       "0                             NaN            NaN  41.900341 -87.696743   \n",
       "1                             NaN            NaN  41.900333 -87.696707   \n",
       "2                             NaN            NaN  41.900313 -87.696643   \n",
       "3                             NaN            NaN  41.900399 -87.696662   \n",
       "4                             NaN            NaN  41.900326 -87.696697   \n",
       "...                           ...            ...        ...        ...   \n",
       "5595058                       NaN            NaN  41.882289 -87.639752   \n",
       "5595059  Kingsbury St & Kinzie St   KA1503000043  41.882123 -87.640053   \n",
       "5595060   Dearborn St & Monroe St   TA1305000006  41.881956 -87.639955   \n",
       "5595061                       NaN            NaN  41.860000 -87.720000   \n",
       "5595062   Dearborn St & Monroe St   TA1305000006  41.877850 -87.624080   \n",
       "\n",
       "           end_lat    end_lng member_casual          length  weekday  weekend  \\\n",
       "0        41.890000 -87.720000        member 0 days 00:10:25        5        1   \n",
       "1        41.900000 -87.690000        member 0 days 00:04:04        2        0   \n",
       "2        41.900000 -87.700000        member 0 days 00:01:20        3        0   \n",
       "3        41.920000 -87.690000        member 0 days 00:11:42        3        0   \n",
       "4        41.900000 -87.700000        casual 0 days 00:00:43        5        1   \n",
       "...            ...        ...           ...             ...      ...      ...   \n",
       "5595058  41.890000 -87.610000        casual 0 days 00:19:13        6        1   \n",
       "5595059  41.889106 -87.638862        member 0 days 00:07:01        0        0   \n",
       "5595060  41.880254 -87.629603        member 0 days 00:08:17        3        0   \n",
       "5595061  41.850000 -87.710000        member 0 days 00:14:13        0        0   \n",
       "5595062  41.881320 -87.629521        member 0 days 00:03:37        0        0   \n",
       "\n",
       "        usage_day_period  working_time  usage_working_time  \n",
       "0              afternoon             0                   0  \n",
       "1                  night             0                   0  \n",
       "2                  night             0                   0  \n",
       "3              afternoon             1                   1  \n",
       "4               midnight             0                   0  \n",
       "...                  ...           ...                 ...  \n",
       "5595058        afternoon             0                   0  \n",
       "5595059            night             0                   0  \n",
       "5595060          morning             0                   0  \n",
       "5595061          morning             1                   1  \n",
       "5595062          morning             0                   0  \n",
       "\n",
       "[5595063 rows x 18 columns]"
      ]
     },
     "execution_count": 28,
     "metadata": {},
     "output_type": "execute_result"
    }
   ],
   "source": [
    "df"
   ]
  },
  {
   "cell_type": "code",
   "execution_count": 31,
   "id": "b69d8f5e",
   "metadata": {},
   "outputs": [
    {
     "name": "stderr",
     "output_type": "stream",
     "text": [
      "UserWarning: `to_pickle` defaulting to pandas implementation.\n"
     ]
    }
   ],
   "source": [
    "df.to_pickle(\"data-processed\")"
   ]
  }
 ],
 "metadata": {
  "kernelspec": {
   "display_name": "Python 3 (ipykernel)",
   "language": "python",
   "name": "python3"
  },
  "language_info": {
   "codemirror_mode": {
    "name": "ipython",
    "version": 3
   },
   "file_extension": ".py",
   "mimetype": "text/x-python",
   "name": "python",
   "nbconvert_exporter": "python",
   "pygments_lexer": "ipython3",
   "version": "3.9.7"
  }
 },
 "nbformat": 4,
 "nbformat_minor": 5
}
